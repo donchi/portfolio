{
 "cells": [
  {
   "cell_type": "markdown",
   "id": "1b7fcdb1-0aa6-4ff6-b5fc-f3a6652f778e",
   "metadata": {},
   "source": [
    "## Arizona Bike Stores Monthly Sales Prediction\n",
    "This model predicts future sales based on the previous month's sales and 3-months rolling average."
   ]
  },
  {
   "cell_type": "markdown",
   "id": "2807933a-560c-4b25-853b-450b3a0d10af",
   "metadata": {},
   "source": [
    "## Work Flow\n",
    "1. Data Exploration (EDA)\n",
    "2. Data Cleaning and Transformation\n",
    "3. Feature Engineering\n",
    "4. Pipeline, Model Tuning and Evaluation\n",
    "5. Predictions"
   ]
  },
  {
   "cell_type": "markdown",
   "id": "ea2c9f43-6f7a-4fc5-8709-2d5b9dc86b4c",
   "metadata": {},
   "source": [
    "### 1. Data Exploration (EDA)"
   ]
  },
  {
   "cell_type": "code",
   "execution_count": 1,
   "id": "b8275e29-a894-412a-8e0d-6c7d17867163",
   "metadata": {},
   "outputs": [],
   "source": [
    "# Import packages\n",
    "import pandas as pd\n",
    "import numpy as np\n",
    "import matplotlib.pyplot as plt\n",
    "import os"
   ]
  },
  {
   "cell_type": "markdown",
   "id": "0f5e396e-08f6-4535-b172-25272ab82782",
   "metadata": {},
   "source": [
    "We would use historical sales data. \n",
    "* `You can use 2 or more years, depending on your industry. My suggestion would be, if your services and products are being upgraded every year like for startup SaaS companies, then its best to keep it between 12-18 months. Retail businesses can use 2-3 years of sales data. More features would however be needed to get a more accurate model such as seasonality, trends, inflation, promotions and more.` "
   ]
  },
  {
   "cell_type": "code",
   "execution_count": 2,
   "id": "f82486c6-f361-4365-b470-48454c3a1768",
   "metadata": {},
   "outputs": [
    {
     "data": {
      "text/html": [
       "<div>\n",
       "<style scoped>\n",
       "    .dataframe tbody tr th:only-of-type {\n",
       "        vertical-align: middle;\n",
       "    }\n",
       "\n",
       "    .dataframe tbody tr th {\n",
       "        vertical-align: top;\n",
       "    }\n",
       "\n",
       "    .dataframe thead th {\n",
       "        text-align: right;\n",
       "    }\n",
       "</style>\n",
       "<table border=\"1\" class=\"dataframe\">\n",
       "  <thead>\n",
       "    <tr style=\"text-align: right;\">\n",
       "      <th></th>\n",
       "      <th>OrderDate</th>\n",
       "      <th>OrderNumber</th>\n",
       "      <th>ProductKey</th>\n",
       "      <th>CustomerKey</th>\n",
       "      <th>TerritoryKey</th>\n",
       "      <th>OrderLineItem</th>\n",
       "      <th>OrderQuantity</th>\n",
       "    </tr>\n",
       "  </thead>\n",
       "  <tbody>\n",
       "    <tr>\n",
       "      <th>0</th>\n",
       "      <td>2023-01-01</td>\n",
       "      <td>SO48797</td>\n",
       "      <td>385</td>\n",
       "      <td>14335</td>\n",
       "      <td>1</td>\n",
       "      <td>1</td>\n",
       "      <td>1</td>\n",
       "    </tr>\n",
       "    <tr>\n",
       "      <th>1</th>\n",
       "      <td>2023-01-01</td>\n",
       "      <td>SO48802</td>\n",
       "      <td>383</td>\n",
       "      <td>24923</td>\n",
       "      <td>9</td>\n",
       "      <td>1</td>\n",
       "      <td>1</td>\n",
       "    </tr>\n",
       "    <tr>\n",
       "      <th>2</th>\n",
       "      <td>2023-01-01</td>\n",
       "      <td>SO48801</td>\n",
       "      <td>326</td>\n",
       "      <td>15493</td>\n",
       "      <td>1</td>\n",
       "      <td>1</td>\n",
       "      <td>1</td>\n",
       "    </tr>\n",
       "    <tr>\n",
       "      <th>3</th>\n",
       "      <td>2023-01-01</td>\n",
       "      <td>SO48799</td>\n",
       "      <td>352</td>\n",
       "      <td>26708</td>\n",
       "      <td>4</td>\n",
       "      <td>1</td>\n",
       "      <td>1</td>\n",
       "    </tr>\n",
       "    <tr>\n",
       "      <th>4</th>\n",
       "      <td>2023-01-01</td>\n",
       "      <td>SO48798</td>\n",
       "      <td>369</td>\n",
       "      <td>23332</td>\n",
       "      <td>9</td>\n",
       "      <td>1</td>\n",
       "      <td>1</td>\n",
       "    </tr>\n",
       "  </tbody>\n",
       "</table>\n",
       "</div>"
      ],
      "text/plain": [
       "   OrderDate OrderNumber  ProductKey  CustomerKey  TerritoryKey  \\\n",
       "0 2023-01-01     SO48797         385        14335             1   \n",
       "1 2023-01-01     SO48802         383        24923             9   \n",
       "2 2023-01-01     SO48801         326        15493             1   \n",
       "3 2023-01-01     SO48799         352        26708             4   \n",
       "4 2023-01-01     SO48798         369        23332             9   \n",
       "\n",
       "   OrderLineItem  OrderQuantity  \n",
       "0              1              1  \n",
       "1              1              1  \n",
       "2              1              1  \n",
       "3              1              1  \n",
       "4              1              1  "
      ]
     },
     "execution_count": 2,
     "metadata": {},
     "output_type": "execute_result"
    }
   ],
   "source": [
    "# Import sales data from 2023 and 2024\n",
    "# create empty dataframe\n",
    "df_sales = pd.DataFrame()\n",
    "\n",
    "# retrieve files in sales folder and append to the dataframe\n",
    "files = [file for file in os.listdir(\"dataset/Fact_Sales/\")]\n",
    "for file in files:\n",
    "    fact_sales = pd.read_csv(\"dataset/Fact_Sales/\"+file, parse_dates=['OrderDate'])\n",
    "    df_sales = pd.concat([df_sales, fact_sales])\n",
    "\n",
    "# Sort sales data by date\n",
    "df_sales.sort_values(by='OrderDate', ascending=True, inplace=True)\n",
    "df_sales.head()"
   ]
  },
  {
   "cell_type": "code",
   "execution_count": 3,
   "id": "54b0c86a-d53d-4efa-89b9-987e1599dc79",
   "metadata": {
    "tags": []
   },
   "outputs": [
    {
     "data": {
      "text/plain": [
       "(Timestamp('2023-01-01 00:00:00'), Timestamp('2024-06-30 00:00:00'))"
      ]
     },
     "execution_count": 3,
     "metadata": {},
     "output_type": "execute_result"
    }
   ],
   "source": [
    "# Check the min and max order date to see if all the data is present\n",
    "min(df_sales.OrderDate), max(df_sales.OrderDate)"
   ]
  },
  {
   "cell_type": "code",
   "execution_count": 4,
   "id": "1051820f-b426-4a01-b7e1-974ec14330ea",
   "metadata": {
    "tags": []
   },
   "outputs": [
    {
     "name": "stdout",
     "output_type": "stream",
     "text": [
      "<class 'pandas.core.frame.DataFrame'>\n",
      "Index: 53416 entries, 0 to 29480\n",
      "Data columns (total 7 columns):\n",
      " #   Column         Non-Null Count  Dtype         \n",
      "---  ------         --------------  -----         \n",
      " 0   OrderDate      53416 non-null  datetime64[ns]\n",
      " 1   OrderNumber    53416 non-null  object        \n",
      " 2   ProductKey     53416 non-null  int64         \n",
      " 3   CustomerKey    53416 non-null  int64         \n",
      " 4   TerritoryKey   53416 non-null  int64         \n",
      " 5   OrderLineItem  53416 non-null  int64         \n",
      " 6   OrderQuantity  53416 non-null  int64         \n",
      "dtypes: datetime64[ns](1), int64(5), object(1)\n",
      "memory usage: 3.3+ MB\n"
     ]
    }
   ],
   "source": [
    "# Check data types and nulls\n",
    "df_sales.info()"
   ]
  },
  {
   "cell_type": "code",
   "execution_count": 5,
   "id": "790a9eca-9aed-4bce-b817-68f02bb57fc8",
   "metadata": {
    "tags": []
   },
   "outputs": [
    {
     "data": {
      "text/html": [
       "<div>\n",
       "<style scoped>\n",
       "    .dataframe tbody tr th:only-of-type {\n",
       "        vertical-align: middle;\n",
       "    }\n",
       "\n",
       "    .dataframe tbody tr th {\n",
       "        vertical-align: top;\n",
       "    }\n",
       "\n",
       "    .dataframe thead th {\n",
       "        text-align: right;\n",
       "    }\n",
       "</style>\n",
       "<table border=\"1\" class=\"dataframe\">\n",
       "  <thead>\n",
       "    <tr style=\"text-align: right;\">\n",
       "      <th></th>\n",
       "      <th>ProductKey</th>\n",
       "      <th>ProductSubcategoryKey</th>\n",
       "      <th>ProductSKU</th>\n",
       "      <th>ProductName</th>\n",
       "      <th>ModelName</th>\n",
       "      <th>ProductDescription</th>\n",
       "      <th>ProductColor</th>\n",
       "      <th>ProductSize</th>\n",
       "      <th>ProductStyle</th>\n",
       "      <th>ProductCost</th>\n",
       "      <th>ProductPrice</th>\n",
       "    </tr>\n",
       "  </thead>\n",
       "  <tbody>\n",
       "    <tr>\n",
       "      <th>0</th>\n",
       "      <td>214</td>\n",
       "      <td>31</td>\n",
       "      <td>HL-U509-R</td>\n",
       "      <td>Sport-100 Helmet, Red</td>\n",
       "      <td>Sport-100</td>\n",
       "      <td>Universal fit, well-vented, lightweight , snap...</td>\n",
       "      <td>Red</td>\n",
       "      <td>0</td>\n",
       "      <td>0</td>\n",
       "      <td>13.0863</td>\n",
       "      <td>34.9900</td>\n",
       "    </tr>\n",
       "    <tr>\n",
       "      <th>1</th>\n",
       "      <td>215</td>\n",
       "      <td>31</td>\n",
       "      <td>HL-U509</td>\n",
       "      <td>Sport-100 Helmet, Black</td>\n",
       "      <td>Sport-100</td>\n",
       "      <td>Universal fit, well-vented, lightweight , snap...</td>\n",
       "      <td>Black</td>\n",
       "      <td>0</td>\n",
       "      <td>0</td>\n",
       "      <td>12.0278</td>\n",
       "      <td>33.6442</td>\n",
       "    </tr>\n",
       "    <tr>\n",
       "      <th>2</th>\n",
       "      <td>218</td>\n",
       "      <td>23</td>\n",
       "      <td>SO-B909-M</td>\n",
       "      <td>Mountain Bike Socks, M</td>\n",
       "      <td>Mountain Bike Socks</td>\n",
       "      <td>Combination of natural and synthetic fibers st...</td>\n",
       "      <td>White</td>\n",
       "      <td>M</td>\n",
       "      <td>U</td>\n",
       "      <td>3.3963</td>\n",
       "      <td>9.5000</td>\n",
       "    </tr>\n",
       "  </tbody>\n",
       "</table>\n",
       "</div>"
      ],
      "text/plain": [
       "   ProductKey  ProductSubcategoryKey ProductSKU              ProductName  \\\n",
       "0         214                     31  HL-U509-R    Sport-100 Helmet, Red   \n",
       "1         215                     31    HL-U509  Sport-100 Helmet, Black   \n",
       "2         218                     23  SO-B909-M   Mountain Bike Socks, M   \n",
       "\n",
       "             ModelName                                 ProductDescription  \\\n",
       "0            Sport-100  Universal fit, well-vented, lightweight , snap...   \n",
       "1            Sport-100  Universal fit, well-vented, lightweight , snap...   \n",
       "2  Mountain Bike Socks  Combination of natural and synthetic fibers st...   \n",
       "\n",
       "  ProductColor ProductSize ProductStyle  ProductCost  ProductPrice  \n",
       "0          Red           0            0      13.0863       34.9900  \n",
       "1        Black           0            0      12.0278       33.6442  \n",
       "2        White           M            U       3.3963        9.5000  "
      ]
     },
     "execution_count": 5,
     "metadata": {},
     "output_type": "execute_result"
    }
   ],
   "source": [
    "# Import product's data to get the product price\n",
    "df_products = pd.read_csv(\"dataset/Dim_Products.csv\")\n",
    "df_products.head(3)"
   ]
  },
  {
   "cell_type": "code",
   "execution_count": 6,
   "id": "67a32938-4a2a-4e18-8f2d-7c53c80d908e",
   "metadata": {
    "tags": []
   },
   "outputs": [
    {
     "data": {
      "text/plain": [
       "ProductKey                0\n",
       "ProductSubcategoryKey     0\n",
       "ProductSKU                0\n",
       "ProductName               0\n",
       "ModelName                 0\n",
       "ProductDescription        0\n",
       "ProductColor             50\n",
       "ProductSize               0\n",
       "ProductStyle              0\n",
       "ProductCost               0\n",
       "ProductPrice              0\n",
       "dtype: int64"
      ]
     },
     "execution_count": 6,
     "metadata": {},
     "output_type": "execute_result"
    }
   ],
   "source": [
    "# Check for null values\n",
    "df_products.isna().sum()"
   ]
  },
  {
   "cell_type": "markdown",
   "id": "6b9e7f51-a3a8-44ae-bcfe-7debd2845869",
   "metadata": {},
   "source": [
    "### 2. Data Cleaning and Transformation"
   ]
  },
  {
   "cell_type": "code",
   "execution_count": 7,
   "id": "3c0bc0ce-26ec-4aee-9594-658dcff930ac",
   "metadata": {
    "tags": []
   },
   "outputs": [
    {
     "data": {
      "text/html": [
       "<div>\n",
       "<style scoped>\n",
       "    .dataframe tbody tr th:only-of-type {\n",
       "        vertical-align: middle;\n",
       "    }\n",
       "\n",
       "    .dataframe tbody tr th {\n",
       "        vertical-align: top;\n",
       "    }\n",
       "\n",
       "    .dataframe thead th {\n",
       "        text-align: right;\n",
       "    }\n",
       "</style>\n",
       "<table border=\"1\" class=\"dataframe\">\n",
       "  <thead>\n",
       "    <tr style=\"text-align: right;\">\n",
       "      <th></th>\n",
       "      <th>OrderDate</th>\n",
       "      <th>OrderNumber</th>\n",
       "      <th>ProductKey</th>\n",
       "      <th>CustomerKey</th>\n",
       "      <th>TerritoryKey</th>\n",
       "      <th>OrderLineItem</th>\n",
       "      <th>OrderQuantity</th>\n",
       "      <th>ProductSubcategoryKey</th>\n",
       "      <th>ProductSKU</th>\n",
       "      <th>ProductName</th>\n",
       "      <th>ModelName</th>\n",
       "      <th>ProductDescription</th>\n",
       "      <th>ProductColor</th>\n",
       "      <th>ProductSize</th>\n",
       "      <th>ProductStyle</th>\n",
       "      <th>ProductCost</th>\n",
       "      <th>ProductPrice</th>\n",
       "    </tr>\n",
       "  </thead>\n",
       "  <tbody>\n",
       "    <tr>\n",
       "      <th>0</th>\n",
       "      <td>2023-01-01</td>\n",
       "      <td>SO48797</td>\n",
       "      <td>385</td>\n",
       "      <td>14335</td>\n",
       "      <td>1</td>\n",
       "      <td>1</td>\n",
       "      <td>1</td>\n",
       "      <td>2</td>\n",
       "      <td>BK-R64Y-42</td>\n",
       "      <td>Road-550-W Yellow, 42</td>\n",
       "      <td>Road-550-W</td>\n",
       "      <td>Same technology as all of our Road series bike...</td>\n",
       "      <td>Yellow</td>\n",
       "      <td>42</td>\n",
       "      <td>W</td>\n",
       "      <td>605.6492</td>\n",
       "      <td>1000.4375</td>\n",
       "    </tr>\n",
       "    <tr>\n",
       "      <th>1</th>\n",
       "      <td>2023-01-01</td>\n",
       "      <td>SO48802</td>\n",
       "      <td>383</td>\n",
       "      <td>24923</td>\n",
       "      <td>9</td>\n",
       "      <td>1</td>\n",
       "      <td>1</td>\n",
       "      <td>2</td>\n",
       "      <td>BK-R64Y-40</td>\n",
       "      <td>Road-550-W Yellow, 40</td>\n",
       "      <td>Road-550-W</td>\n",
       "      <td>Same technology as all of our Road series bike...</td>\n",
       "      <td>Yellow</td>\n",
       "      <td>40</td>\n",
       "      <td>W</td>\n",
       "      <td>605.6492</td>\n",
       "      <td>1000.4375</td>\n",
       "    </tr>\n",
       "    <tr>\n",
       "      <th>2</th>\n",
       "      <td>2023-01-01</td>\n",
       "      <td>SO48801</td>\n",
       "      <td>326</td>\n",
       "      <td>15493</td>\n",
       "      <td>1</td>\n",
       "      <td>1</td>\n",
       "      <td>1</td>\n",
       "      <td>2</td>\n",
       "      <td>BK-R50R-44</td>\n",
       "      <td>Road-650 Red, 44</td>\n",
       "      <td>Road-650</td>\n",
       "      <td>Value-priced bike with many features of our to...</td>\n",
       "      <td>Red</td>\n",
       "      <td>44</td>\n",
       "      <td>U</td>\n",
       "      <td>413.1463</td>\n",
       "      <td>699.0982</td>\n",
       "    </tr>\n",
       "  </tbody>\n",
       "</table>\n",
       "</div>"
      ],
      "text/plain": [
       "   OrderDate OrderNumber  ProductKey  CustomerKey  TerritoryKey  \\\n",
       "0 2023-01-01     SO48797         385        14335             1   \n",
       "1 2023-01-01     SO48802         383        24923             9   \n",
       "2 2023-01-01     SO48801         326        15493             1   \n",
       "\n",
       "   OrderLineItem  OrderQuantity  ProductSubcategoryKey  ProductSKU  \\\n",
       "0              1              1                      2  BK-R64Y-42   \n",
       "1              1              1                      2  BK-R64Y-40   \n",
       "2              1              1                      2  BK-R50R-44   \n",
       "\n",
       "             ProductName   ModelName  \\\n",
       "0  Road-550-W Yellow, 42  Road-550-W   \n",
       "1  Road-550-W Yellow, 40  Road-550-W   \n",
       "2       Road-650 Red, 44    Road-650   \n",
       "\n",
       "                                  ProductDescription ProductColor ProductSize  \\\n",
       "0  Same technology as all of our Road series bike...       Yellow          42   \n",
       "1  Same technology as all of our Road series bike...       Yellow          40   \n",
       "2  Value-priced bike with many features of our to...          Red          44   \n",
       "\n",
       "  ProductStyle  ProductCost  ProductPrice  \n",
       "0            W     605.6492     1000.4375  \n",
       "1            W     605.6492     1000.4375  \n",
       "2            U     413.1463      699.0982  "
      ]
     },
     "execution_count": 7,
     "metadata": {},
     "output_type": "execute_result"
    }
   ],
   "source": [
    "# Join both dataframes to get the sales\n",
    "sales_products = pd.merge(df_sales, df_products, on='ProductKey', how='left')\n",
    "sales_products.head(3)"
   ]
  },
  {
   "cell_type": "code",
   "execution_count": 8,
   "id": "164a748a-d993-48f2-afd0-4b694f542c86",
   "metadata": {},
   "outputs": [
    {
     "data": {
      "text/html": [
       "<div>\n",
       "<style scoped>\n",
       "    .dataframe tbody tr th:only-of-type {\n",
       "        vertical-align: middle;\n",
       "    }\n",
       "\n",
       "    .dataframe tbody tr th {\n",
       "        vertical-align: top;\n",
       "    }\n",
       "\n",
       "    .dataframe thead th {\n",
       "        text-align: right;\n",
       "    }\n",
       "</style>\n",
       "<table border=\"1\" class=\"dataframe\">\n",
       "  <thead>\n",
       "    <tr style=\"text-align: right;\">\n",
       "      <th></th>\n",
       "      <th>OrderDate</th>\n",
       "      <th>Sales</th>\n",
       "      <th>month_date</th>\n",
       "    </tr>\n",
       "  </thead>\n",
       "  <tbody>\n",
       "    <tr>\n",
       "      <th>0</th>\n",
       "      <td>2023-01-01</td>\n",
       "      <td>1000.4375</td>\n",
       "      <td>2023-01-31</td>\n",
       "    </tr>\n",
       "    <tr>\n",
       "      <th>1</th>\n",
       "      <td>2023-01-01</td>\n",
       "      <td>1000.4375</td>\n",
       "      <td>2023-01-31</td>\n",
       "    </tr>\n",
       "    <tr>\n",
       "      <th>2</th>\n",
       "      <td>2023-01-01</td>\n",
       "      <td>699.0982</td>\n",
       "      <td>2023-01-31</td>\n",
       "    </tr>\n",
       "    <tr>\n",
       "      <th>3</th>\n",
       "      <td>2023-01-01</td>\n",
       "      <td>2071.4196</td>\n",
       "      <td>2023-01-31</td>\n",
       "    </tr>\n",
       "    <tr>\n",
       "      <th>4</th>\n",
       "      <td>2023-01-01</td>\n",
       "      <td>2443.3500</td>\n",
       "      <td>2023-01-31</td>\n",
       "    </tr>\n",
       "  </tbody>\n",
       "</table>\n",
       "</div>"
      ],
      "text/plain": [
       "   OrderDate      Sales month_date\n",
       "0 2023-01-01  1000.4375 2023-01-31\n",
       "1 2023-01-01  1000.4375 2023-01-31\n",
       "2 2023-01-01   699.0982 2023-01-31\n",
       "3 2023-01-01  2071.4196 2023-01-31\n",
       "4 2023-01-01  2443.3500 2023-01-31"
      ]
     },
     "execution_count": 8,
     "metadata": {},
     "output_type": "execute_result"
    }
   ],
   "source": [
    "# Calculate sales\n",
    "sales_products['Sales'] = sales_products['OrderQuantity'] * sales_products['ProductPrice']\n",
    "\n",
    "# Select needed features\n",
    "sales_data = sales_products[['OrderDate','Sales']].sort_values(by='OrderDate', ascending=True)\n",
    "\n",
    "# Create last day of the month column to aggregate sales by month\n",
    "sales_data[\"month_date\"] = sales_data[\"OrderDate\"] + pd.offsets.MonthEnd(0)\n",
    "sales_data.head()"
   ]
  },
  {
   "cell_type": "code",
   "execution_count": 9,
   "id": "98e1aba9-041b-4a0a-bf78-184ba1debea9",
   "metadata": {
    "tags": []
   },
   "outputs": [
    {
     "data": {
      "text/html": [
       "<div>\n",
       "<style scoped>\n",
       "    .dataframe tbody tr th:only-of-type {\n",
       "        vertical-align: middle;\n",
       "    }\n",
       "\n",
       "    .dataframe tbody tr th {\n",
       "        vertical-align: top;\n",
       "    }\n",
       "\n",
       "    .dataframe thead th {\n",
       "        text-align: right;\n",
       "    }\n",
       "</style>\n",
       "<table border=\"1\" class=\"dataframe\">\n",
       "  <thead>\n",
       "    <tr style=\"text-align: right;\">\n",
       "      <th></th>\n",
       "      <th>total_sales</th>\n",
       "    </tr>\n",
       "    <tr>\n",
       "      <th>month_date</th>\n",
       "      <th></th>\n",
       "    </tr>\n",
       "  </thead>\n",
       "  <tbody>\n",
       "    <tr>\n",
       "      <th>2023-01-31</th>\n",
       "      <td>432425.74</td>\n",
       "    </tr>\n",
       "    <tr>\n",
       "      <th>2023-02-28</th>\n",
       "      <td>474162.79</td>\n",
       "    </tr>\n",
       "    <tr>\n",
       "      <th>2023-03-31</th>\n",
       "      <td>471961.88</td>\n",
       "    </tr>\n",
       "    <tr>\n",
       "      <th>2023-04-30</th>\n",
       "      <td>494957.42</td>\n",
       "    </tr>\n",
       "    <tr>\n",
       "      <th>2023-05-31</th>\n",
       "      <td>545534.74</td>\n",
       "    </tr>\n",
       "  </tbody>\n",
       "</table>\n",
       "</div>"
      ],
      "text/plain": [
       "            total_sales\n",
       "month_date             \n",
       "2023-01-31    432425.74\n",
       "2023-02-28    474162.79\n",
       "2023-03-31    471961.88\n",
       "2023-04-30    494957.42\n",
       "2023-05-31    545534.74"
      ]
     },
     "execution_count": 9,
     "metadata": {},
     "output_type": "execute_result"
    }
   ],
   "source": [
    "# Round total sales to 2 decimals\n",
    "pd.set_option('display.float_format', lambda x: '%.2f' %x) \n",
    "\n",
    "# Aggregate sales to month\n",
    "monthly_sales = sales_data.groupby(['month_date'])['Sales'].sum().to_frame('total_sales')\n",
    "monthly_sales.head()"
   ]
  },
  {
   "cell_type": "code",
   "execution_count": 10,
   "id": "46b0281d-113c-4144-8a33-4743b8994aed",
   "metadata": {},
   "outputs": [
    {
     "data": {
      "image/png": "[encoded data removed]",
      "text/plain": [
       "<Figure size 640x480 with 1 Axes>"
      ]
     },
     "metadata": {},
     "output_type": "display_data"
    }
   ],
   "source": [
    "# Visualize the data\n",
    "plt.style.use('dark_background')\n",
    "plt.rcParams.update({'font.size':9})\n",
    "ax = monthly_sales.plot()\n",
    "ax.set(title=\"Monthly Sales (Aug-23 to Jun-24)\", xlabel=\"Order Month\", ylabel=\"Total Sales\" )\n",
    "plt.show()"
   ]
  },
  {
   "cell_type": "markdown",
   "id": "18ae29a0-7843-4c80-bd28-139c2dc2514e",
   "metadata": {},
   "source": [
    "### 3. Feature Engineering"
   ]
  },
  {
   "cell_type": "code",
   "execution_count": 11,
   "id": "d424df8c-f0da-4ddf-967f-d905ff96e436",
   "metadata": {},
   "outputs": [
    {
     "data": {
      "text/html": [
       "<div>\n",
       "<style scoped>\n",
       "    .dataframe tbody tr th:only-of-type {\n",
       "        vertical-align: middle;\n",
       "    }\n",
       "\n",
       "    .dataframe tbody tr th {\n",
       "        vertical-align: top;\n",
       "    }\n",
       "\n",
       "    .dataframe thead th {\n",
       "        text-align: right;\n",
       "    }\n",
       "</style>\n",
       "<table border=\"1\" class=\"dataframe\">\n",
       "  <thead>\n",
       "    <tr style=\"text-align: right;\">\n",
       "      <th></th>\n",
       "      <th>total_sales</th>\n",
       "      <th>prev_month_sales</th>\n",
       "      <th>rolling_avg_3</th>\n",
       "      <th>prev_rolling_avg_3</th>\n",
       "    </tr>\n",
       "    <tr>\n",
       "      <th>month_date</th>\n",
       "      <th></th>\n",
       "      <th></th>\n",
       "      <th></th>\n",
       "      <th></th>\n",
       "    </tr>\n",
       "  </thead>\n",
       "  <tbody>\n",
       "    <tr>\n",
       "      <th>2023-04-30</th>\n",
       "      <td>494957.42</td>\n",
       "      <td>471961.88</td>\n",
       "      <td>480360.69</td>\n",
       "      <td>459516.80</td>\n",
       "    </tr>\n",
       "    <tr>\n",
       "      <th>2023-05-31</th>\n",
       "      <td>545534.74</td>\n",
       "      <td>494957.42</td>\n",
       "      <td>504151.35</td>\n",
       "      <td>480360.69</td>\n",
       "    </tr>\n",
       "    <tr>\n",
       "      <th>2023-06-30</th>\n",
       "      <td>533824.98</td>\n",
       "      <td>545534.74</td>\n",
       "      <td>524772.38</td>\n",
       "      <td>504151.35</td>\n",
       "    </tr>\n",
       "    <tr>\n",
       "      <th>2023-07-31</th>\n",
       "      <td>815356.47</td>\n",
       "      <td>533824.98</td>\n",
       "      <td>631572.06</td>\n",
       "      <td>524772.38</td>\n",
       "    </tr>\n",
       "    <tr>\n",
       "      <th>2023-08-31</th>\n",
       "      <td>804193.39</td>\n",
       "      <td>815356.47</td>\n",
       "      <td>717791.61</td>\n",
       "      <td>631572.06</td>\n",
       "    </tr>\n",
       "  </tbody>\n",
       "</table>\n",
       "</div>"
      ],
      "text/plain": [
       "            total_sales  prev_month_sales  rolling_avg_3  prev_rolling_avg_3\n",
       "month_date                                                                  \n",
       "2023-04-30    494957.42         471961.88      480360.69           459516.80\n",
       "2023-05-31    545534.74         494957.42      504151.35           480360.69\n",
       "2023-06-30    533824.98         545534.74      524772.38           504151.35\n",
       "2023-07-31    815356.47         533824.98      631572.06           524772.38\n",
       "2023-08-31    804193.39         815356.47      717791.61           631572.06"
      ]
     },
     "execution_count": 11,
     "metadata": {},
     "output_type": "execute_result"
    }
   ],
   "source": [
    "# Get previous month sales feature\n",
    "monthly_sales['prev_month_sales'] = monthly_sales['total_sales'].shift(1)\n",
    "\n",
    "# Add a 3-month rolling average feature\n",
    "monthly_sales['rolling_avg_3'] = monthly_sales['total_sales'].rolling(window=3).mean()\n",
    "\n",
    "# Get previous 3 month rolling avg\n",
    "monthly_sales['prev_rolling_avg_3'] = monthly_sales['rolling_avg_3'].shift(1)\n",
    "\n",
    "# drop null values\n",
    "monthly_sales.dropna(inplace=True) # first 3 months have nulls and would be dropped\n",
    "\n",
    "monthly_sales.head()"
   ]
  },
  {
   "cell_type": "markdown",
   "id": "b5a18809-ba97-4846-bb42-a2a85cc52e1e",
   "metadata": {},
   "source": [
    "### 4. Pipeline, Model Tuning and Evaluation\n",
    "We would test linear and random forest regression models, to see which is better."
   ]
  },
  {
   "cell_type": "code",
   "execution_count": 12,
   "id": "9cf23656-5148-4573-89f9-0261bd4c328f",
   "metadata": {
    "tags": []
   },
   "outputs": [],
   "source": [
    "# Import needed packages\n",
    "from sklearn.pipeline import Pipeline\n",
    "from sklearn.preprocessing import StandardScaler, PolynomialFeatures\n",
    "from sklearn.compose import ColumnTransformer\n",
    "from sklearn.model_selection import train_test_split, GridSearchCV\n",
    "from sklearn.metrics import mean_squared_error, mean_absolute_error \n",
    "import pickle\n",
    "\n",
    "# split the data into features and label. \n",
    "X = monthly_sales.drop(['total_sales','rolling_avg_3'], axis=1) # We would be using the prev month sales and rolling avg\n",
    "y = monthly_sales['total_sales']\n",
    "\n",
    "# split the data train and test\n",
    "X_train, X_test, y_train, y_test = train_test_split(X, y, test_size=0.2, random_state=42)"
   ]
  },
  {
   "cell_type": "markdown",
   "id": "5822beb2-eabd-49d6-8215-3a60c55d6fce",
   "metadata": {
    "tags": []
   },
   "source": [
    "#### 4a. Linear Regression"
   ]
  },
  {
   "cell_type": "code",
   "execution_count": 13,
   "id": "2bb08ab3-bfed-49d6-9925-b46abbb87404",
   "metadata": {
    "tags": []
   },
   "outputs": [
    {
     "name": "stdout",
     "output_type": "stream",
     "text": [
      "Best hyperparameters: {'poly__degree': 1, 'poly__include_bias': False, 'poly__interaction_only': False}\n",
      "Mean Squared Error: 73906732564.75136\n",
      "Mean Absolute Error: 208580.31291241487\n",
      "Root Mean Squared Error: 271857.9271692318\n"
     ]
    }
   ],
   "source": [
    "# Import model\n",
    "from sklearn.linear_model import LinearRegression\n",
    "\n",
    "# Define the pipeline\n",
    "pipeline = Pipeline([\n",
    "    ('poly', PolynomialFeatures()),  # Polynomial feature transformation\n",
    "    ('scaler', StandardScaler()),    # Feature scaling\n",
    "    ('linear', LinearRegression())   # Linear regression model\n",
    "])\n",
    "\n",
    "# Define the hyperparameter grid\n",
    "param_grid = {\n",
    "    'poly__degree': [1, 2, 3],  # Polynomial degrees to consider\n",
    "    'poly__interaction_only': [False, True],  # Whether to include only interaction features\n",
    "    'poly__include_bias': [False, True]  # Whether to include a bias term\n",
    "}\n",
    "\n",
    "# Set up GridSearchCV - WE could put this in a function to reuse in random forest\n",
    "def grid_search_eval():\n",
    "    grid_search = GridSearchCV(estimator=pipeline, param_grid=param_grid, cv=5, scoring='neg_mean_squared_error')\n",
    "\n",
    "    # Fit the model\n",
    "    grid_search.fit(X_train, y_train)\n",
    "\n",
    "    # Get the best hyperparameters\n",
    "    best_params = grid_search.best_params_\n",
    "    print(\"Best hyperparameters:\", best_params)\n",
    "\n",
    "    # Predict on the test set\n",
    "    global y_preds\n",
    "    y_preds = grid_search.best_estimator_.predict(X_test)\n",
    "\n",
    "    # Evaluate the model\n",
    "    mse = mean_squared_error(y_test, y_preds)\n",
    "    mae = mean_absolute_error(y_test, y_preds)\n",
    "    rmse = np.sqrt(mse)\n",
    "\n",
    "    print(\"Mean Squared Error:\", mse)\n",
    "    print(\"Mean Absolute Error:\", mae)\n",
    "    print(\"Root Mean Squared Error:\", rmse)\n",
    "    \n",
    "    # Get the best model\n",
    "    global best_model\n",
    "    best_model = grid_search.best_estimator_\n",
    "\n",
    "# Call the function    \n",
    "grid_search_eval()\n",
    "\n",
    "# Save the model\n",
    "pickle.dump(best_model, open('model/sales_prediction-linear.pkl','wb'))"
   ]
  },
  {
   "cell_type": "code",
   "execution_count": 14,
   "id": "15911cc0-25de-480c-ba11-b92482cadaca",
   "metadata": {
    "scrolled": true,
    "tags": []
   },
   "outputs": [
    {
     "data": {
      "text/html": [
       "<div>\n",
       "<style scoped>\n",
       "    .dataframe tbody tr th:only-of-type {\n",
       "        vertical-align: middle;\n",
       "    }\n",
       "\n",
       "    .dataframe tbody tr th {\n",
       "        vertical-align: top;\n",
       "    }\n",
       "\n",
       "    .dataframe thead th {\n",
       "        text-align: right;\n",
       "    }\n",
       "</style>\n",
       "<table border=\"1\" class=\"dataframe\">\n",
       "  <thead>\n",
       "    <tr style=\"text-align: right;\">\n",
       "      <th></th>\n",
       "      <th>prev_month_sales</th>\n",
       "      <th>prev_rolling_avg_3</th>\n",
       "      <th>Predicted_Sales</th>\n",
       "      <th>Actual_Sales</th>\n",
       "      <th>diff</th>\n",
       "    </tr>\n",
       "    <tr>\n",
       "      <th>month_date</th>\n",
       "      <th></th>\n",
       "      <th></th>\n",
       "      <th></th>\n",
       "      <th></th>\n",
       "      <th></th>\n",
       "    </tr>\n",
       "  </thead>\n",
       "  <tbody>\n",
       "    <tr>\n",
       "      <th>2023-04-30</th>\n",
       "      <td>471961.88</td>\n",
       "      <td>459516.80</td>\n",
       "      <td>590755.73</td>\n",
       "      <td>494957.42</td>\n",
       "      <td>95798.32</td>\n",
       "    </tr>\n",
       "    <tr>\n",
       "      <th>2024-01-31</th>\n",
       "      <td>1635308.80</td>\n",
       "      <td>1266347.63</td>\n",
       "      <td>1729249.01</td>\n",
       "      <td>1274378.67</td>\n",
       "      <td>454870.35</td>\n",
       "    </tr>\n",
       "    <tr>\n",
       "      <th>2024-03-31</th>\n",
       "      <td>1339241.29</td>\n",
       "      <td>1416309.59</td>\n",
       "      <td>1523668.40</td>\n",
       "      <td>1448596.12</td>\n",
       "      <td>75072.27</td>\n",
       "    </tr>\n",
       "  </tbody>\n",
       "</table>\n",
       "</div>"
      ],
      "text/plain": [
       "            prev_month_sales  prev_rolling_avg_3  Predicted_Sales  \\\n",
       "month_date                                                          \n",
       "2023-04-30         471961.88           459516.80        590755.73   \n",
       "2024-01-31        1635308.80          1266347.63       1729249.01   \n",
       "2024-03-31        1339241.29          1416309.59       1523668.40   \n",
       "\n",
       "            Actual_Sales      diff  \n",
       "month_date                          \n",
       "2023-04-30     494957.42  95798.32  \n",
       "2024-01-31    1274378.67 454870.35  \n",
       "2024-03-31    1448596.12  75072.27  "
      ]
     },
     "execution_count": 14,
     "metadata": {},
     "output_type": "execute_result"
    }
   ],
   "source": [
    "# Compare actual sales and predicted sales\n",
    "result = pd.DataFrame(X_test)\n",
    "result['Predicted_Sales'] = y_preds\n",
    "result['Actual_Sales'] = y_test\n",
    "result['diff'] = abs(result['Predicted_Sales'] - result['Actual_Sales']) \n",
    "result.sort_values(by='month_date', ascending=True, inplace=True)\n",
    "result"
   ]
  },
  {
   "cell_type": "code",
   "execution_count": 15,
   "id": "d72c86dd-cdf6-4d9d-b5b5-24e4484fb8ae",
   "metadata": {
    "tags": []
   },
   "outputs": [
    {
     "data": {
      "image/png": "[encoded data removed]",
      "text/plain": [
       "<Figure size 600x400 with 1 Axes>"
      ]
     },
     "metadata": {},
     "output_type": "display_data"
    }
   ],
   "source": [
    "# visualize the result\n",
    "plt.figure(figsize=(6,4))\n",
    "plt.plot(result['Actual_Sales'], label='Actual')\n",
    "plt.plot(result['Predicted_Sales'], label='Predicted')\n",
    "plt.title(\"Actual Sales vs Predicted Sales (Using LR)\")\n",
    "plt.ylabel(\"Total Sales\")\n",
    "plt.xlabel(\"Order Month\")\n",
    "plt.legend()\n",
    "plt.show()"
   ]
  },
  {
   "cell_type": "markdown",
   "id": "768903f8-c8b5-4116-a40f-39a99c5c764f",
   "metadata": {},
   "source": [
    "#### 4b. Random Forest Regressor"
   ]
  },
  {
   "cell_type": "code",
   "execution_count": 16,
   "id": "26953e04",
   "metadata": {
    "tags": []
   },
   "outputs": [
    {
     "name": "stdout",
     "output_type": "stream",
     "text": [
      "Best hyperparameters: {'regressor__max_depth': None, 'regressor__min_samples_leaf': 2, 'regressor__min_samples_split': 2, 'regressor__n_estimators': 10}\n",
      "Mean Squared Error: 41828470232.94723\n",
      "Mean Absolute Error: 191666.95457896823\n",
      "Root Mean Squared Error: 204520.09738152198\n"
     ]
    }
   ],
   "source": [
    "from sklearn.ensemble import RandomForestRegressor\n",
    "\n",
    "# Create Pipeline\n",
    "pipeline = Pipeline(steps=[\n",
    "    ('scaler', StandardScaler()),\n",
    "    ('regressor', RandomForestRegressor(random_state=42))\n",
    "])\n",
    "\n",
    "# define parameters\n",
    "param_grid = {\n",
    "    'regressor__n_estimators':np.arange(10,300,20), # no of treesin the forest\n",
    "    'regressor__max_depth':[None, 10, 20, 30], # depth of the trees, maybe branches\n",
    "    'regressor__min_samples_split':[2, 5, 8, 10], # for internal node\n",
    "    'regressor__min_samples_leaf':[1, 2, 4, 8] # for leaf node\n",
    "   # 'regressor__max_features':['auto', 'sqrt', 'log2'] # features to consider when splitting\n",
    "}\n",
    "\n",
    "# Call the function\n",
    "grid_search_eval()\n",
    "\n",
    "# Save the model\n",
    "pickle.dump(best_model, open('model/sales_prediction-randomforest.pkl','wb'))"
   ]
  },
  {
   "cell_type": "code",
   "execution_count": 17,
   "id": "a5526874-01ac-4f86-8e0b-faed272a3707",
   "metadata": {
    "tags": []
   },
   "outputs": [
    {
     "data": {
      "text/html": [
       "<div>\n",
       "<style scoped>\n",
       "    .dataframe tbody tr th:only-of-type {\n",
       "        vertical-align: middle;\n",
       "    }\n",
       "\n",
       "    .dataframe tbody tr th {\n",
       "        vertical-align: top;\n",
       "    }\n",
       "\n",
       "    .dataframe thead th {\n",
       "        text-align: right;\n",
       "    }\n",
       "</style>\n",
       "<table border=\"1\" class=\"dataframe\">\n",
       "  <thead>\n",
       "    <tr style=\"text-align: right;\">\n",
       "      <th></th>\n",
       "      <th>prev_month_sales</th>\n",
       "      <th>prev_rolling_avg_3</th>\n",
       "      <th>Predicted_Sales</th>\n",
       "      <th>Actual_Sales</th>\n",
       "      <th>diff</th>\n",
       "    </tr>\n",
       "    <tr>\n",
       "      <th>month_date</th>\n",
       "      <th></th>\n",
       "      <th></th>\n",
       "      <th></th>\n",
       "      <th></th>\n",
       "      <th></th>\n",
       "    </tr>\n",
       "  </thead>\n",
       "  <tbody>\n",
       "    <tr>\n",
       "      <th>2023-04-30</th>\n",
       "      <td>471961.88</td>\n",
       "      <td>459516.80</td>\n",
       "      <td>644563.39</td>\n",
       "      <td>494957.42</td>\n",
       "      <td>149605.98</td>\n",
       "    </tr>\n",
       "    <tr>\n",
       "      <th>2024-01-31</th>\n",
       "      <td>1635308.80</td>\n",
       "      <td>1266347.63</td>\n",
       "      <td>1566521.24</td>\n",
       "      <td>1274378.67</td>\n",
       "      <td>292142.57</td>\n",
       "    </tr>\n",
       "    <tr>\n",
       "      <th>2024-03-31</th>\n",
       "      <td>1339241.29</td>\n",
       "      <td>1416309.59</td>\n",
       "      <td>1581848.44</td>\n",
       "      <td>1448596.12</td>\n",
       "      <td>133252.31</td>\n",
       "    </tr>\n",
       "  </tbody>\n",
       "</table>\n",
       "</div>"
      ],
      "text/plain": [
       "            prev_month_sales  prev_rolling_avg_3  Predicted_Sales  \\\n",
       "month_date                                                          \n",
       "2023-04-30         471961.88           459516.80        644563.39   \n",
       "2024-01-31        1635308.80          1266347.63       1566521.24   \n",
       "2024-03-31        1339241.29          1416309.59       1581848.44   \n",
       "\n",
       "            Actual_Sales      diff  \n",
       "month_date                          \n",
       "2023-04-30     494957.42 149605.98  \n",
       "2024-01-31    1274378.67 292142.57  \n",
       "2024-03-31    1448596.12 133252.31  "
      ]
     },
     "execution_count": 17,
     "metadata": {},
     "output_type": "execute_result"
    }
   ],
   "source": [
    "# Compare actual sales and predicted sales\n",
    "result = pd.DataFrame(X_test)\n",
    "result['Predicted_Sales'] = y_preds\n",
    "result['Actual_Sales'] = y_test\n",
    "result['diff'] = abs(result['Predicted_Sales'] - result['Actual_Sales']) \n",
    "result.sort_values(by='month_date', ascending=True, inplace=True)\n",
    "result"
   ]
  },
  {
   "cell_type": "code",
   "execution_count": 18,
   "id": "0a36c5d3-ac7f-41cc-9082-a815a20743ab",
   "metadata": {
    "tags": []
   },
   "outputs": [
    {
     "data": {
      "image/png": "[encoded data removed]",
      "text/plain": [
       "<Figure size 600x400 with 1 Axes>"
      ]
     },
     "metadata": {},
     "output_type": "display_data"
    }
   ],
   "source": [
    "# Visualize the result\n",
    "plt.figure(figsize=(6,4))\n",
    "plt.plot(result['Actual_Sales'], label='Actual')\n",
    "plt.plot(result['Predicted_Sales'], label='Predicted')\n",
    "plt.title(\"Actual Sales vs Predicted Sales (Using RF)\")\n",
    "plt.ylabel(\"Total Sales\")\n",
    "plt.xlabel(\"Order Month\")\n",
    "plt.legend()\n",
    "plt.show()"
   ]
  },
  {
   "cell_type": "markdown",
   "id": "b3d942bc-b6ea-4fc4-ada2-52fb89e57d90",
   "metadata": {},
   "source": [
    "We can see that the random forest regression model produced slightly better results. \n",
    "We would use the random forest model to predict next month sales."
   ]
  },
  {
   "cell_type": "markdown",
   "id": "9b71245f-2252-4cad-873a-ab03c3833723",
   "metadata": {},
   "source": [
    "### 5. Prediction - make prediction for next month"
   ]
  },
  {
   "cell_type": "markdown",
   "id": "dfe4a024-acb9-45f9-a50b-6cd498598ff5",
   "metadata": {},
   "source": [
    "We would use the last month sales and average sales for the last 3months to predict the next month sales"
   ]
  },
  {
   "cell_type": "code",
   "execution_count": 19,
   "id": "a1a87d81-06b2-401b-ac69-223d28ea10c9",
   "metadata": {
    "tags": []
   },
   "outputs": [
    {
     "data": {
      "text/html": [
       "<div>\n",
       "<style scoped>\n",
       "    .dataframe tbody tr th:only-of-type {\n",
       "        vertical-align: middle;\n",
       "    }\n",
       "\n",
       "    .dataframe tbody tr th {\n",
       "        vertical-align: top;\n",
       "    }\n",
       "\n",
       "    .dataframe thead th {\n",
       "        text-align: right;\n",
       "    }\n",
       "</style>\n",
       "<table border=\"1\" class=\"dataframe\">\n",
       "  <thead>\n",
       "    <tr style=\"text-align: right;\">\n",
       "      <th></th>\n",
       "      <th>prev_month_sales</th>\n",
       "      <th>prev_rolling_avg_3</th>\n",
       "    </tr>\n",
       "  </thead>\n",
       "  <tbody>\n",
       "    <tr>\n",
       "      <th>2024-07-30</th>\n",
       "      <td>1826987.14</td>\n",
       "      <td>1707744.45</td>\n",
       "    </tr>\n",
       "  </tbody>\n",
       "</table>\n",
       "</div>"
      ],
      "text/plain": [
       "            prev_month_sales  prev_rolling_avg_3\n",
       "2024-07-30        1826987.14          1707744.45"
      ]
     },
     "execution_count": 19,
     "metadata": {},
     "output_type": "execute_result"
    }
   ],
   "source": [
    "# Get the data for the last month sales\n",
    "total_sales = monthly_sales.iloc[-1]['total_sales']\n",
    "month_3_rolling_avg = monthly_sales.iloc[-1]['rolling_avg_3']\n",
    "next_month = monthly_sales.index[-1]+ pd.DateOffset(months=1)\n",
    "\n",
    "# Display in a dataframe for clarity\n",
    "data = pd.DataFrame({\"prev_month_sales\": [total_sales], \n",
    "                              \"prev_rolling_avg_3\":[month_3_rolling_avg]}, \n",
    "                             index = [next_month] )\n",
    "data"
   ]
  },
  {
   "cell_type": "code",
   "execution_count": 20,
   "id": "8a771099-9177-4b9c-bdcf-b957b3acac56",
   "metadata": {
    "tags": []
   },
   "outputs": [
    {
     "data": {
      "text/html": [
       "<div>\n",
       "<style scoped>\n",
       "    .dataframe tbody tr th:only-of-type {\n",
       "        vertical-align: middle;\n",
       "    }\n",
       "\n",
       "    .dataframe tbody tr th {\n",
       "        vertical-align: top;\n",
       "    }\n",
       "\n",
       "    .dataframe thead th {\n",
       "        text-align: right;\n",
       "    }\n",
       "</style>\n",
       "<table border=\"1\" class=\"dataframe\">\n",
       "  <thead>\n",
       "    <tr style=\"text-align: right;\">\n",
       "      <th></th>\n",
       "      <th>total_sales</th>\n",
       "    </tr>\n",
       "    <tr>\n",
       "      <th>month_date</th>\n",
       "      <th></th>\n",
       "    </tr>\n",
       "  </thead>\n",
       "  <tbody>\n",
       "    <tr>\n",
       "      <th>2024-07-30</th>\n",
       "      <td>1628533.08</td>\n",
       "    </tr>\n",
       "  </tbody>\n",
       "</table>\n",
       "</div>"
      ],
      "text/plain": [
       "            total_sales\n",
       "month_date             \n",
       "2024-07-30   1628533.08"
      ]
     },
     "execution_count": 20,
     "metadata": {},
     "output_type": "execute_result"
    }
   ],
   "source": [
    "# Predict the sales for the next month (July 2024)\n",
    "linear_model = pickle.load(open(\"model/sales_prediction-randomforest.pkl\",\"rb\"))\n",
    "next_month_prediction = linear_model.predict(data)\n",
    "\n",
    "# put it in a dataframe\n",
    "prediction_df = pd.DataFrame()\n",
    "prediction_df['total_sales'] = [next_month_prediction[0]]\n",
    "prediction_df['month_date'] = [monthly_sales.index[-1] + pd.DateOffset(months=1)]\n",
    "prediction_df.set_index('month_date', inplace=True)\n",
    "prediction_df"
   ]
  },
  {
   "cell_type": "markdown",
   "id": "1034b3e2-c426-45fd-8e85-4695e83fd34c",
   "metadata": {},
   "source": [
    "`We could run predictions for future months, using a for loop to calculate the 3 months rolling average for the predicted month and then predict the month after and so on.`"
   ]
  },
  {
   "cell_type": "code",
   "execution_count": 21,
   "id": "f4367dbb-e52a-4743-ae08-3ce0892d7c10",
   "metadata": {
    "tags": []
   },
   "outputs": [],
   "source": [
    "# We would save the monthly sale df to use for testing in production\n",
    "monthly_sales.to_csv(\"monthly_sales.csv\")"
   ]
  },
  {
   "cell_type": "code",
   "execution_count": null,
   "id": "02c615ec-2f50-4608-bbda-3ecf3d3c3eb0",
   "metadata": {},
   "outputs": [],
   "source": []
  }
 ],
 "metadata": {
  "kernelspec": {
   "display_name": "Python 3 (ipykernel)",
   "language": "python",
   "name": "python3"
  },
  "language_info": {
   "codemirror_mode": {
    "name": "ipython",
    "version": 3
   },
   "file_extension": ".py",
   "mimetype": "text/x-python",
   "name": "python",
   "nbconvert_exporter": "python",
   "pygments_lexer": "ipython3",
   "version": "3.11.4"
  }
 },
 "nbformat": 4,
 "nbformat_minor": 5
}
